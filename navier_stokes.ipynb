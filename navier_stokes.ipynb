{
 "cells": [
  {
   "cell_type": "markdown",
   "metadata": {},
   "source": [
    "# To Do\n",
    "1. Currently implementing Ubc and Vbc\n",
    "2. After the above the linear solutions for: implicit viscocity, and pressure, can be implemented.\n",
    "3. Visualisation\n",
    "4. Implement cholensky matrices (more efficient)"
   ]
  },
  {
   "cell_type": "code",
   "execution_count": 822,
   "metadata": {},
   "outputs": [],
   "source": [
    "import numpy as np\n",
    "import scipy as sci\n",
    "\n",
    "import matplotlib.pyplot as plt\n",
    "import scipy.sparse as spa\n",
    "import scipy.sparse.linalg as spala \n",
    "\n",
    "from types import SimpleNamespace\n",
    "\n",
    "# Initial conditions \n",
    "const = SimpleNamespace() # Proposal const -> cst\n",
    "par = SimpleNamespace()\n",
    "\n",
    "const.Re = 1e2     # Reynolds number\n",
    "const.dt = 1e-2    # time step\n",
    "const.tf = 500e-2  # final time\n",
    "const.lx = 10      # width of box\n",
    "const.ly = 10      # height of box\n",
    "const.nx = 4       # number of x-gridpoints\n",
    "const.ny = 4       # number of y-gridpoints\n",
    "const.nsteps = 10  # number of steps with graphic output\n",
    "\n",
    "const.nt = np.ceil(const.tf/const.dt)\n",
    "const.dt = const.tf/const.nt;\n",
    "\n",
    "# Constuct grid\n",
    "const.x, const.y = np.linspace(0, const.lx, const.nx+1), np.linspace(0, const.ly, const.ny+1)\n",
    "const.hx, const.hy = const.lx/const.nx, const.ly/const.ny\n",
    "[const.X,const.Y] = np.meshgrid(const.y, const.x);\n",
    "\n",
    "# IC's\n",
    "U = np.zeros((const.nx-1, const.ny), dtype = float)\n",
    "V = np.zeros((const.nx, const.ny-1), dtype = float)\n",
    "\n",
    "# BC's\n",
    "## North, East, South, West\n",
    "\n",
    "uN = const.x*0 + 1\n",
    "uE = ave(const.y, 'h')*0 \n",
    "uS = const.x*0\n",
    "uW = ave(const.y, 'h')*0\n",
    "\n",
    "vN = ave(const.x, 'h')*0 \n",
    "vW = const.y*0\n",
    "vS = ave(const.x, 'h')*0\n",
    "vE = const.y*0\n",
    "\n",
    "# Boundary matrices\n",
    "## WIP see lower cell\n",
    "## Implement boundary matrices Ubc and Bvc\n",
    "\n",
    "# Operator matrices on P, U, V, Q respectively\n",
    "Lp = spa.kron(spa.eye(const.ny), laplace_m(const.nx, const.hx, 'Neumann')) +\\\n",
    "     spa.kron(laplace_m(const.ny, const.hy, 'Neumann'), spa.eye(const.nx))\n",
    "Lu = spa.eye((const.nx-1)*const.ny) + \\\n",
    "     (const.dt/const.Re)*(spa.kron(spa.eye(const.ny), laplace_m(const.nx-1, const.hx, 'Dirichelt_on')))+\\\n",
    "     spa.kron(laplace_m(const.ny, const.hy, 'Dirichelt_between'), spa.eye(const.nx-1))\n",
    "Lv = spa.eye((const.ny-1)*const.nx) + \\\n",
    "     (const.dt/const.Re)*(spa.kron(spa.eye(const.ny-1), laplace_m(const.nx, const.hx, 'Dirichelt_between')))+\\\n",
    "     spa.kron(laplace_m(const.ny-1, const.hy, 'Dirichelt_on'), spa.eye(const.nx))\n",
    "Lq = spa.kron(spa.eye(const.ny-1), laplace_m(const.nx-1, const.hx, 'Dirichlet_on')) +\\\n",
    "     spa.kron(laplace_m(const.ny-1, const.hy, 'Dirichlet_on'), spa.eye(const.nx-1))\n",
    "       \n",
    "# Implement pre solution matrices\n",
    "## WIP\n",
    "## Need to figure out how to use cholensky with sparse matrices\n",
    "## possibly scikit offers it. For now this is not implemented\n",
    "\n",
    "\n",
    "loop = True\n",
    "counter = 0\n",
    "\n",
    "while loop:\n",
    "    counter += 1\n",
    "    \n",
    "    # Non linear terms\n",
    "    Ue = np.vstack((uS, np.vstack((uW, U, uE)).T, uN)).T\n",
    "    Ve = np.vstack((vW, np.vstack((vS, V.T, vN)).T, vE))\n",
    "\n",
    "    # If x and y are made 2D\n",
    "    ## Ue = np.concatenate((uS, np.concatenate((uW, U.T, uE), axis = 0).T, uN), axis = 0)\n",
    "    ## Ve = np.concatenate((vW, np.concatenate((vS.T, V, vN.T), axis = 1), vE), axis = 0)\n",
    "    \n",
    "    # Average and difference matrices\n",
    "    Ua = ave(Ue, 'v')\n",
    "    Ud = np.diff(Ue, n=1, axis=1)/2\n",
    "    Va = ave(Ve, 'h')\n",
    "    Vd = np.diff(Ve, n=1, axis=0)/2\n",
    "    \n",
    "    # Derivative matrices UV_x and UV_y\n",
    "    UVx = np.diff((Ua*Va - gamma(const, U, V)*np.abs(Ua)*Vd), axis=0)/const.hx\n",
    "    UVy = np.diff((Ua*Va - gamma(const, U, V)*Ud*np.abs(Va)), axis=1)/const.hy\n",
    "    \n",
    "    # Average and difference matrices\n",
    "    Ua = ave(Ue[:,1:-1], 'h')\n",
    "    Ud = np.diff(Ue[:,1:-1], n=1, axis=0)/2\n",
    "    Va = ave(Ve[1:-1,:], 'v')\n",
    "    Vd = np.diff(Ve[1:-1,:], n=1, axis=1)/2\n",
    "    \n",
    "    # Derivative matrices U^2_x and U^2_y\n",
    "    U2x = np.diff((Ua**2 - gamma(const, U, V)*np.abs(Ua)*Ud), axis=0)/const.hx\n",
    "    V2y = np.diff((Ua**2 - gamma(const, U, V)*np.abs(Va)*Vd), axis=1)/const.hy\n",
    "    \n",
    "    # Change in velocity applied\n",
    "    U = U - const.dt*(UVy[1:-1,:] + U2x)\n",
    "    V = V - const.dt*(UVx[:,1:-1] + V2y)    \n",
    "    \n",
    "    # Implicit viscocity \n",
    "    # WIP see lower cell\n",
    "    \n",
    "    # Pressure correction    \n",
    "    ## WIP\n",
    "    \n",
    "    # Visualization\n",
    "    ## WIP\n",
    "    \n",
    "    if counter == 10:\n",
    "        loop = False\n"
   ]
  },
  {
   "cell_type": "code",
   "execution_count": 824,
   "metadata": {},
   "outputs": [],
   "source": [
    "# Ubc and Vbc WIP\n",
    "Ubc = const.dt/Re\n"
   ]
  },
  {
   "cell_type": "code",
   "execution_count": null,
   "metadata": {},
   "outputs": [],
   "source": [
    "Ubc = dt/Re*([2*uS(2:end-1)’ zeros(nx-1,ny-2) 2*uN(2:end-1)’]/hx^2+...\n",
    "[uW;zeros(nx-3,ny);uE]/hy^2);\n",
    "Vbc = dt/Re*([vS’ zeros(nx,ny-3) vN’]/hx^2+...\n",
    "[2*vW(2:end-1);zeros(nx-2,ny-1);2*vE(2:end-1)]/hy^2);"
   ]
  },
  {
   "cell_type": "code",
   "execution_count": 820,
   "metadata": {},
   "outputs": [
    {
     "ename": "NameError",
     "evalue": "name 'Ub' is not defined",
     "output_type": "error",
     "traceback": [
      "\u001b[0;31m---------------------------------------------------------------------------\u001b[0m",
      "\u001b[0;31mNameError\u001b[0m                                 Traceback (most recent call last)",
      "\u001b[0;32m<ipython-input-820-ca1942be67f4>\u001b[0m in \u001b[0;36m<module>\u001b[0;34m()\u001b[0m\n\u001b[0;32m----> 1\u001b[0;31m \u001b[0mu\u001b[0m \u001b[0;34m=\u001b[0m \u001b[0mspala\u001b[0m\u001b[0;34m.\u001b[0m\u001b[0mspsolve\u001b[0m\u001b[0;34m(\u001b[0m\u001b[0mLu\u001b[0m\u001b[0;34m,\u001b[0m \u001b[0mnp\u001b[0m\u001b[0;34m.\u001b[0m\u001b[0mreshape\u001b[0m\u001b[0;34m(\u001b[0m\u001b[0mU\u001b[0m \u001b[0;34m+\u001b[0m \u001b[0mUb\u001b[0m\u001b[0;34m,\u001b[0m\u001b[0;34m(\u001b[0m\u001b[0;34m-\u001b[0m\u001b[0;36m1\u001b[0m\u001b[0;34m,\u001b[0m\u001b[0;36m1\u001b[0m\u001b[0;34m)\u001b[0m\u001b[0;34m)\u001b[0m\u001b[0;34m)\u001b[0m\u001b[0;34m\u001b[0m\u001b[0m\n\u001b[0m\u001b[1;32m      2\u001b[0m \u001b[0mU\u001b[0m \u001b[0;34m=\u001b[0m \u001b[0mnp\u001b[0m\u001b[0;34m.\u001b[0m\u001b[0mreshape\u001b[0m\u001b[0;34m(\u001b[0m\u001b[0mU\u001b[0m\u001b[0;34m,\u001b[0m\u001b[0;34m(\u001b[0m\u001b[0mconst\u001b[0m\u001b[0;34m.\u001b[0m\u001b[0mnx\u001b[0m\u001b[0;34m-\u001b[0m\u001b[0;36m1\u001b[0m\u001b[0;34m,\u001b[0m \u001b[0mconst\u001b[0m\u001b[0;34m.\u001b[0m\u001b[0mny\u001b[0m\u001b[0;34m)\u001b[0m\u001b[0;34m)\u001b[0m\u001b[0;34m\u001b[0m\u001b[0m\n\u001b[1;32m      3\u001b[0m \u001b[0mU\u001b[0m\u001b[0;34m\u001b[0m\u001b[0m\n",
      "\u001b[0;31mNameError\u001b[0m: name 'Ub' is not defined"
     ]
    }
   ],
   "source": [
    "# Viscocity WIP\n",
    "u = spala.spsolve(Lu, np.reshape(U + Ub,(-1,1)))\n",
    "U = np.reshape(U,(const.nx-1, const.ny))\n",
    "U"
   ]
  },
  {
   "cell_type": "code",
   "execution_count": 775,
   "metadata": {},
   "outputs": [
    {
     "data": {
      "text/plain": [
       "56"
      ]
     },
     "execution_count": 775,
     "metadata": {},
     "output_type": "execute_result"
    }
   ],
   "source": [
    "from sys import getsizeof\n",
    "getsizeof(Lp)"
   ]
  },
  {
   "cell_type": "code",
   "execution_count": 765,
   "metadata": {},
   "outputs": [],
   "source": [
    "def ave(A, axis):\n",
    "    \"\"\"\n",
    "    axis = h(orizontal), v(ertical) \n",
    "    \"\"\"\n",
    "    if axis == 'v':\n",
    "        A = np.transpose(A)\n",
    "        \n",
    "    average = (A[0:-1] + A[1:])/2\n",
    "    \n",
    "    if axis == 'v':\n",
    "        average = np.transpose(average)\n",
    "    \n",
    "    return average\n",
    "\n",
    "def gamma(const, U, V):\n",
    "    \"\"\"\n",
    "    Returns gamma factor\n",
    "    \"\"\"\n",
    "    return np.min((1.2*const.dt*np.max((np.max((np.abs(U)/const.hx)), np.max((np.abs(V)/const.hy)))), 1))\n",
    "\n",
    "def laplace_m(n, h, bc):\n",
    "    diag_len = n \n",
    "    Lm = 2*np.ones(diag_len)  # Create diagonal values \n",
    "    Lu = np.diag(-1*np.ones(diag_len-1), k=1) # Up offdiagonal value \n",
    "    Ld = np.diag(-1*np.ones(diag_len-1), k=-1)# Down offdiagonal value \n",
    "   \n",
    "    if bc == 'Neumann':\n",
    "        Lm[[0,-1]] = 1 \n",
    "        \n",
    "    if bc == 'Dirichelet_on':\n",
    "        Lm[[0,-1]] = 2 \n",
    "    \n",
    "    if bc == 'Dirichelet_between':\n",
    "        Lm[[0,-1]] = 3 \n",
    "    \n",
    "    Lm=np.diag(Lm, k=0)\n",
    "    \n",
    "    L = (Lu + Lm + Ld)/h**2\n",
    "    \n",
    "    return L\n"
   ]
  },
  {
   "cell_type": "code",
   "execution_count": 786,
   "metadata": {},
   "outputs": [
    {
     "data": {
      "image/png": "[encoded data removed]",
      "text/plain": [
       "<matplotlib.figure.Figure at 0x7f034967d7f0>"
      ]
     },
     "metadata": {},
     "output_type": "display_data"
    },
    {
     "data": {
      "image/png": "[encoded data removed]",
      "text/plain": [
       "<matplotlib.figure.Figure at 0x7f034df42c88>"
      ]
     },
     "metadata": {},
     "output_type": "display_data"
    },
    {
     "data": {
      "image/png": "[encoded data removed]",
      "text/plain": [
       "<matplotlib.figure.Figure at 0x7f034964a780>"
      ]
     },
     "metadata": {},
     "output_type": "display_data"
    }
   ],
   "source": [
    "# This is usefull to get an idea of how the matrices are becoming what they are.\n",
    "# Use nx and ny to be 4 to see the similarities\n",
    "plt.spy(Lv)\n",
    "plt.show()\n",
    "plt.spy(sparse.kron(sparse.eye(3), laplace_m(4, 1, 'Neumann')))\n",
    "plt.show()\n",
    "plt.spy(sparse.kron(laplace_m(4, 1, 'Neumann'), sparse.eye(3)))\n",
    "plt.show()"
   ]
  },
  {
   "cell_type": "code",
   "execution_count": null,
   "metadata": {},
   "outputs": [],
   "source": []
  }
 ],
 "metadata": {
  "kernelspec": {
   "display_name": "Python 3",
   "language": "python",
   "name": "python3"
  },
  "language_info": {
   "codemirror_mode": {
    "name": "ipython",
    "version": 3
   },
   "file_extension": ".py",
   "mimetype": "text/x-python",
   "name": "python",
   "nbconvert_exporter": "python",
   "pygments_lexer": "ipython3",
   "version": "3.6.2"
  }
 },
 "nbformat": 4,
 "nbformat_minor": 2
}
