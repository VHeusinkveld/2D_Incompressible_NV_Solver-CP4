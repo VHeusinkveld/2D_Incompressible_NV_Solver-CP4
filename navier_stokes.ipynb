{
 "cells": [
  {
   "cell_type": "markdown",
   "metadata": {},
   "source": [
    "# To Do\n",
    "1. Currently implementing Ubc and Vbc\n",
    "2. After the above the linear solutions for: implicit viscocity, and pressure (WIP), can be implemented.\n",
    "3. Visualisation\n",
    "4. Implement cholensky matrices (more efficient)"
   ]
  },
  {
   "cell_type": "markdown",
   "metadata": {},
   "source": [
    "# Algorithm"
   ]
  },
  {
   "cell_type": "code",
   "execution_count": null,
   "metadata": {},
   "outputs": [],
   "source": [
    "#%matplotlib notebook\n",
    "import numpy as np\n",
    "import scipy as sci\n",
    "\n",
    "import matplotlib.pyplot as plt\n",
    "from matplotlib import cm\n",
    "\n",
    "import scipy.sparse as spa\n",
    "import scipy.sparse.linalg as spala \n",
    "\n",
    "from types import SimpleNamespace\n",
    "\n",
    "# Initial conditions \n",
    "const = SimpleNamespace() # Proposal const -> cst\n",
    "par = SimpleNamespace()\n",
    "\n",
    "const.Re = 1e2     # Reynolds number\n",
    "const.dt = 1e-2    # time step\n",
    "const.tf = 4e-0    # final time\n",
    "const.lx = 1       # width of box\n",
    "const.ly = 1       # height of box\n",
    "const.nx = 6      # number of x-gridpoints\n",
    "const.ny = 6     # number of y-gridpoints\n",
    "const.nsteps = 100  # number of steps with graphic output\n",
    "\n",
    "const.nt = np.ceil(const.tf/const.dt)\n",
    "const.dt = const.tf/const.nt;\n",
    "\n",
    "# Constuct grid\n",
    "const.x, const.y = np.linspace(0, const.lx, const.nx+1), np.linspace(0, const.ly, const.ny+1)\n",
    "const.hx, const.hy = const.lx/const.nx, const.ly/const.ny\n",
    "[const.X,const.Y] = np.meshgrid(const.y, const.x);\n",
    "\n",
    "# IC's\n",
    "U = np.zeros((const.nx-1, const.ny), dtype = float)\n",
    "V = np.zeros((const.nx, const.ny-1), dtype = float)\n",
    "\n",
    "# BC's\n",
    "## North, East, South, West\n",
    "\n",
    "uN = const.x*0 + 1\n",
    "uE = ave(const.y, 'h')*0 \n",
    "uS = const.x*0\n",
    "uW = ave(const.y, 'h')*0\n",
    "\n",
    "vN = ave(const.x, 'h')*0 \n",
    "vW = const.y*0\n",
    "vS = ave(const.x, 'h')*0\n",
    "vE = const.y*0\n",
    "\n",
    "# Boundary matrices\n",
    "#TODO Don't know why there is a factor 2 in front of uS and uN etc.\n",
    "Ubc = const.dt/const.Re*((np.vstack((2*uS[1:-1], np.zeros((const.nx-1,const.ny-2),dtype=float).T, 2*uN[1:-1])).T)/const.hx**2 +\\\n",
    "                    np.vstack((uW, np.zeros((const.nx-3, const.ny),dtype=float), uE))/const.hy**2)\n",
    "Vbc = const.dt/const.Re*((np.vstack((vS, np.zeros((const.nx,const.ny-3), dtype = float).T, vN)).T)/const.hx**2 +\\\n",
    "                    np.vstack((2*vW[1:-1], np.zeros((const.nx-2, const.ny-1),dtype=float), 2*vE[1:-1]))/const.hy**2)\n",
    "\n",
    "# Operator matrices on P, U, V, Q respectively\n",
    "Lp = spa.kron(spa.eye(const.ny), laplace_m(const.nx, const.hx, 1)) +\\\n",
    "     spa.kron(laplace_m(const.ny, const.hy, 1), spa.eye(const.nx))\n",
    "#TODO Why 3/2 Lp[0,0]\n",
    "Lp[0,0] = 3/2*Lp[0,0]   \n",
    "Lu = spa.eye((const.nx - 1) * const.ny) + \\\n",
    "     (const.dt / const.Re) * ( spa.kron(spa.eye(const.ny), laplace_m(const.nx - 1, const.hx, 2) )  + \\\n",
    "     spa.kron( laplace_m(const.ny, const.hy, 3), spa.eye(const.nx - 1) ) )\n",
    "Lv = spa.eye((const.ny-1)*const.nx) + \\\n",
    "     (const.dt/const.Re)*(spa.kron(spa.eye(const.ny-1), laplace_m(const.nx, const.hx, 3))+\\\n",
    "     spa.kron(laplace_m(const.ny-1, const.hy, 2), spa.eye(const.nx)))\n",
    "Lq = spa.kron(spa.eye(const.ny-1), laplace_m(const.nx-1, const.hx, 2)) +\\\n",
    "     spa.kron(laplace_m(const.ny-1, const.hy, 2), spa.eye(const.nx-1))\n",
    "np.shape(Lv)       \n",
    "# Implement pre solution matrices\n",
    "## WIP\n",
    "## Need to figure out how to use cholensky with sparse matrices use sksparse.cholmod\n",
    "\n",
    "# Visualisation of L matrices\n",
    "#visualise_matrix(Lp, 'Lp')\n",
    "#visualise_matrix(Lu, 'Lu')\n",
    "#visualise_matrix(Lv, 'Lv')\n",
    "#visualise_matrix(Lq, 'Lq')\n",
    "\n",
    "loop = True\n",
    "counter = 0\n",
    "\n",
    "while loop:\n",
    "    counter += 1\n",
    "    \n",
    "    # Non linear terms\n",
    "    Ue = np.vstack((uW, U, uE)).T\n",
    "    #print('np.vstack((uW, U, uE)).T = ', Ue)\n",
    "    Ue = np.vstack((2*uS-Ue[0,:], Ue ,2*uN-Ue[-1,:])).T\n",
    "\n",
    "    Ve = np.vstack((vS, V.T, vN)).T\n",
    "    Ve = np.vstack((2*vW-Ve[0,:], Ve, 2*vE-Ve[-1,:]))\n",
    "    \n",
    "    #print('Ue = ', Ue)\n",
    "    # If x and y are made 2D\n",
    "    # This should be more efficient since here vectors are transposed opposed to matrices\n",
    "    ## Ue = np.concatenate((uS, np.concatenate((uW, U.T, uE), axis = 0).T, uN), axis = 0)\n",
    "    ## Ve = np.concatenate((vW, np.concatenate((vS.T, V, vN.T), axis = 1), vE), axis = 0)\n",
    "    \n",
    "    ## Average and difference matrices\n",
    "    Ua = ave(Ue, 'h')\n",
    "    Ud = np.diff(Ue, n=1, axis=1)/2\n",
    "    Va = ave(Ve, 'v')\n",
    "    Vd = np.diff(Ve, n=1, axis=0)/2\n",
    "    \n",
    "    ## Derivative matrices UV_x and UV_y\n",
    "    UVx = np.diff((Ua*Va - gamma(const, U, V)*np.abs(Ua)*Vd), axis=0)/const.hx\n",
    "    UVy = np.diff((Ua*Va - gamma(const, U, V)*Ud*np.abs(Va)), axis=1)/const.hy\n",
    "    \n",
    "    if counter == 2:\n",
    "        break\n",
    "        \n",
    "    ## Average and difference matrices\n",
    "    Ua = ave(Ue[:,1:-1], 'v')\n",
    "    Ud = np.diff(Ue[:,1:-1], n=1, axis=0)/2\n",
    "    Va = ave(Ve[1:-1,:], 'h')\n",
    "    Vd = np.diff(Ve[1:-1,:], n=1, axis=1)/2\n",
    "    \n",
    "    ## Derivative matrices U^2_x and U^2_y\n",
    "    U2x = np.diff((Ua**2 - gamma(const, U, V)*np.abs(Ua)*Ud), axis=0)/const.hx\n",
    "    V2y = np.diff((Va**2 - gamma(const, U, V)*np.abs(Va)*Vd), axis=1)/const.hy\n",
    "\n",
    "    ## Change in velocity applied\n",
    "    U = U - const.dt*(UVy[1:-1,:] + U2x)\n",
    "    V = V - const.dt*(UVx[:,1:-1] + V2y)    \n",
    "    \n",
    "    #if counter == 2:\n",
    "     #   break\n",
    "        \n",
    "    # Implicit viscosity \n",
    "    u = spala.spsolve(Lu, np.reshape(U + Ubc,(-1,), order='F'))\n",
    "    U = np.reshape(u,(const.nx-1, const.ny), order='F')\n",
    "    v = spala.spsolve(Lv, np.reshape(V + Vbc,(-1,), order='F'))\n",
    "    V = np.reshape(v,(const.nx, const.ny-1), order='F')\n",
    "    print(counter)\n",
    "    #if counter == 2:\n",
    "     #   break\n",
    "    # Pressure correction\n",
    "    # WIP, np.diff takes standard the difference over the last exis hence the y axis.\n",
    "    grad_U = np.diff(np.vstack((uW, U, uE)), n=1, axis=0)/const.hx +\\\n",
    "             np.diff(np.vstack((vS, V.T, vN)).T, n=1, axis=1)/const.hy\n",
    "    rhs = (1/const.dt)*np.reshape(grad_U,(-1,), order='F')\n",
    "    p = -spala.spsolve(Lp, rhs)\n",
    "    P = np.reshape(p,(const.nx,const.ny), order='F')    \n",
    "    U = U - np.diff(P, n=1, axis=0)/const.hx*const.dt\n",
    "    V = V - np.diff(P, n=1, axis=1)/const.hy*const.dt\n",
    "    #if counter == 2:\n",
    "        #break\n",
    "    # Visualization\n",
    "    [X, Y] = np.meshgrid(ave(const.x, 'h'), ave(const.y, 'h'))\n",
    "    if counter%const.nsteps==0 or counter == 1:\n",
    "        print('Counter: ' + str(counter) + ',', 'Time: ' + str(const.dt*counter) + ' s')\n",
    "        # WIP \n",
    "        # Add velocity contour arrows and possibly Q\n",
    "        # Would suggest that we make movies like so: \n",
    "        # https://stackoverflow.com/questions/44947505/how-to-make-a-movie-out-of-images-in-python\n",
    "        fig = plt.figure()\n",
    "        #contour = plt.pcolormesh(X, Y, P.T)\n",
    "        contour = plt.contourf(X, Y, P.T)\n",
    "        plt.colorbar()\n",
    "        plt.xlabel('x')\n",
    "        plt.ylabel('y')\n",
    "        plt.show()\n",
    "    \n",
    "    if counter == 2:#np.ceil(const.tf/const.dt):\n",
    "        loop = False\n",
    "        print('Simulation has ended after ' + str(counter) + ' iteration(s).')\n"
   ]
  },
  {
   "cell_type": "code",
   "execution_count": null,
   "metadata": {},
   "outputs": [],
   "source": [
    "uN = const.x*0 + 1\n",
    "uE = ave(const.y.T, 'v')*0 \n",
    "uS = const.x*0 \n",
    "uW = ave(const.y.T, 'v')*0\n",
    "\n",
    "vN = ave(const.x, 'h')*0 \n",
    "vW = const.y*0\n",
    "vS = ave(const.x, 'h')*0\n",
    "vE = const.y*0"
   ]
  },
  {
   "cell_type": "code",
   "execution_count": null,
   "metadata": {},
   "outputs": [],
   "source": [
    "print(counter)"
   ]
  },
  {
   "cell_type": "code",
   "execution_count": null,
   "metadata": {},
   "outputs": [],
   "source": [
    "print(Ue)"
   ]
  },
  {
   "cell_type": "code",
   "execution_count": null,
   "metadata": {},
   "outputs": [],
   "source": [
    "print(Ve)"
   ]
  },
  {
   "cell_type": "code",
   "execution_count": null,
   "metadata": {},
   "outputs": [],
   "source": [
    "print(Ua)"
   ]
  },
  {
   "cell_type": "code",
   "execution_count": null,
   "metadata": {
    "scrolled": false
   },
   "outputs": [],
   "source": [
    "print(Va)"
   ]
  },
  {
   "cell_type": "code",
   "execution_count": null,
   "metadata": {},
   "outputs": [],
   "source": [
    "print(Ud)"
   ]
  },
  {
   "cell_type": "code",
   "execution_count": null,
   "metadata": {},
   "outputs": [],
   "source": [
    "print(Vd)"
   ]
  },
  {
   "cell_type": "code",
   "execution_count": null,
   "metadata": {},
   "outputs": [],
   "source": [
    "print(UVx)"
   ]
  },
  {
   "cell_type": "code",
   "execution_count": null,
   "metadata": {},
   "outputs": [],
   "source": [
    "print(V2y)"
   ]
  },
  {
   "cell_type": "code",
   "execution_count": null,
   "metadata": {},
   "outputs": [],
   "source": [
    "print(UVy)"
   ]
  },
  {
   "cell_type": "code",
   "execution_count": null,
   "metadata": {},
   "outputs": [],
   "source": [
    "print(U2x)"
   ]
  },
  {
   "cell_type": "code",
   "execution_count": null,
   "metadata": {},
   "outputs": [],
   "source": [
    "gamma(const, U, V)"
   ]
  },
  {
   "cell_type": "code",
   "execution_count": null,
   "metadata": {
    "scrolled": true
   },
   "outputs": [],
   "source": [
    "print(U)"
   ]
  },
  {
   "cell_type": "code",
   "execution_count": null,
   "metadata": {},
   "outputs": [],
   "source": [
    "print(V)"
   ]
  },
  {
   "cell_type": "code",
   "execution_count": null,
   "metadata": {},
   "outputs": [],
   "source": [
    "print(P)"
   ]
  },
  {
   "cell_type": "code",
   "execution_count": null,
   "metadata": {},
   "outputs": [],
   "source": [
    "print(p)"
   ]
  },
  {
   "cell_type": "code",
   "execution_count": null,
   "metadata": {},
   "outputs": [],
   "source": [
    "print(rhs)"
   ]
  },
  {
   "cell_type": "code",
   "execution_count": null,
   "metadata": {},
   "outputs": [],
   "source": [
    "visualise_matrix(Lp, 'Lp')"
   ]
  },
  {
   "cell_type": "code",
   "execution_count": null,
   "metadata": {},
   "outputs": [],
   "source": [
    "print(Ua*Va)"
   ]
  },
  {
   "cell_type": "code",
   "execution_count": null,
   "metadata": {},
   "outputs": [],
   "source": [
    "print(Ud*np.abs(Va))"
   ]
  },
  {
   "cell_type": "code",
   "execution_count": null,
   "metadata": {},
   "outputs": [],
   "source": [
    "print(Ua*Va - Ud*np.abs(Va))"
   ]
  },
  {
   "cell_type": "code",
   "execution_count": null,
   "metadata": {
    "scrolled": true
   },
   "outputs": [],
   "source": [
    "print(np.diff((Ua*Va - Ud*np.abs(Va)), axis=1))"
   ]
  },
  {
   "cell_type": "code",
   "execution_count": null,
   "metadata": {},
   "outputs": [],
   "source": [
    "print(Ve)"
   ]
  },
  {
   "cell_type": "code",
   "execution_count": null,
   "metadata": {},
   "outputs": [],
   "source": [
    "print(ave(Ve, 'v'))"
   ]
  },
  {
   "cell_type": "code",
   "execution_count": null,
   "metadata": {},
   "outputs": [],
   "source": [
    "print(Va)"
   ]
  },
  {
   "cell_type": "markdown",
   "metadata": {},
   "source": [
    "# Functions"
   ]
  },
  {
   "cell_type": "code",
   "execution_count": null,
   "metadata": {},
   "outputs": [],
   "source": [
    "def ave(A, axis):\n",
    "    \"\"\"\n",
    "    axis = h(orizontal), v(ertical) \n",
    "    \"\"\"\n",
    "    if axis == 'h':\n",
    "        A = np.transpose(A)\n",
    "        \n",
    "    average = (A[0:-1] + A[1:])/2\n",
    "    \n",
    "    if axis == 'h':\n",
    "        average = np.transpose(average)\n",
    "    \n",
    "    return average\n",
    "\n",
    "def gamma(const, U, V):\n",
    "    \"\"\"\n",
    "    Returns gamma factor\n",
    "    \"\"\"\n",
    "    return np.min((1.2*const.dt*np.max((np.max((np.abs(U)/const.hx)),\n",
    "                                        np.max((np.abs(V)/const.hy)))), 1))\n",
    "\n",
    "def laplace_m(n, h, bc):\n",
    "    diag_len = n \n",
    "    Lm = 2*np.ones(diag_len)  # Create diagonal values \n",
    "    Lu = np.diag(-1*np.ones(diag_len-1), k=1) # Up offdiagonal value \n",
    "    Ld = np.diag(-1*np.ones(diag_len-1), k=-1)# Down offdiagonal value \n",
    "   \n",
    "    Lm[[0,-1]] = bc\n",
    "            \n",
    "    Lm=np.diag(Lm, k=0)\n",
    "    \n",
    "    L = (Lu + Lm + Ld)/h**2\n",
    "    return L\n",
    "\n",
    "def visualise_matrix(matrix, label_title):\n",
    "    \"\"\" Visualises matrix by making 2D colourplot.\n",
    "    \n",
    "    Parameters\n",
    "    ----------\n",
    "    matrix : 2D numpy.ndarray or scipy.sparse.bsr.bsr_matrix\n",
    "        \n",
    "    \"\"\"\n",
    "    if isinstance(matrix, np.ndarray):\n",
    "        matrix_plot = matrix\n",
    "    elif isinstance(matrix, spa.bsr.bsr_matrix) or isinstance(matrix, spa.coo.coo_matrix) or spa.csr.csr_matrix:\n",
    "        matrix_plot = matrix.toarray()\n",
    "    plt.imshow(matrix_plot)\n",
    "    plt.colorbar()\n",
    "    plt.clim(np.min(matrix_plot), np.max(matrix_plot))\n",
    "    plt.title(label_title)\n",
    "    plt.show()"
   ]
  },
  {
   "cell_type": "code",
   "execution_count": null,
   "metadata": {},
   "outputs": [],
   "source": [
    " ( spa.kron(spa.eye(const.ny), laplace_m(const.nx - 1, const.hx, 2) )  + \\\n",
    "     spa.kron( laplace_m(const.ny, const.hy, 3), spa.eye(const.nx - 1) ) )"
   ]
  },
  {
   "cell_type": "code",
   "execution_count": null,
   "metadata": {},
   "outputs": [],
   "source": [
    "# This is usefull to get an idea of how the matrices are becoming what they are.\n",
    "# Use nx and ny to be 4 to see the similarities\n",
    "'''\n",
    "plt.spy(Lv)\n",
    "plt.show()\n",
    "plt.spy(spa.kron(spa.eye(3), laplace_m(4, 1, 1)))\n",
    "plt.show()\n",
    "plt.spy(spa.kron(laplace_m(4, 1, 1), spa.eye(3)))\n",
    "plt.show()\n",
    "'''\n",
    "\n",
    "#visualise_matrix(spa.kron(spa.eye(6), laplace_m(6, 1, 1)), 'hoi')\n",
    "visualise_matrix(spa.kron(laplace_m(6, 1, 1), spa.eye(6)) +\\\n",
    "                 spa.kron(spa.eye(6), laplace_m(6, 1, 2) ),'hoi2')\n",
    "hoi = spa.eye((const.nx-1)*const.ny) + ( const.dt / const.Re) * ( spa.kron(spa.eye(const.ny), laplace_m(const.nx - 1, const.hx, 2) )  + \\\n",
    "     spa.kron( laplace_m(const.ny, const.hy, 3), spa.eye(const.nx - 1) ) )\n"
   ]
  },
  {
   "cell_type": "code",
   "execution_count": null,
   "metadata": {},
   "outputs": [],
   "source": [
    "import sksparse.cholmod as skch\n",
    "\n",
    "print(skch.cholesky(Lp))"
   ]
  },
  {
   "cell_type": "code",
   "execution_count": null,
   "metadata": {
    "scrolled": true
   },
   "outputs": [],
   "source": [
    "U + Ubc"
   ]
  },
  {
   "cell_type": "code",
   "execution_count": null,
   "metadata": {},
   "outputs": [],
   "source": [
    "np.reshape(U + Ubc,(-1,))"
   ]
  },
  {
   "cell_type": "code",
   "execution_count": null,
   "metadata": {},
   "outputs": [],
   "source": [
    "print(ave(np.matrix(np.linspace(1,10,10)),'v'))"
   ]
  },
  {
   "cell_type": "code",
   "execution_count": null,
   "metadata": {},
   "outputs": [],
   "source": []
  }
 ],
 "metadata": {
  "kernelspec": {
   "display_name": "Python 3",
   "language": "python",
   "name": "python3"
  },
  "language_info": {
   "codemirror_mode": {
    "name": "ipython",
    "version": 3
   },
   "file_extension": ".py",
   "mimetype": "text/x-python",
   "name": "python",
   "nbconvert_exporter": "python",
   "pygments_lexer": "ipython3",
   "version": "3.6.2"
  }
 },
 "nbformat": 4,
 "nbformat_minor": 2
}
