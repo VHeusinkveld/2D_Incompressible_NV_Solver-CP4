{
 "cells": [
  {
   "cell_type": "markdown",
   "metadata": {},
   "source": [
    "# Navier-Stokes simulation in 2D\n",
    "Currently only the simulation of a pressure driven lid is possible. This can be extended by adding more possibilities to the function 'set_BC'."
   ]
  },
  {
   "cell_type": "code",
   "execution_count": null,
   "metadata": {},
   "outputs": [],
   "source": [
    "#%matplotlib notebook\n",
    "import time\n",
    "import numpy as np\n",
    "import scipy as sci\n",
    "\n",
    "from types import SimpleNamespace\n",
    "\n",
    "from functions import *\n",
    "from constants import *\n",
    "from simulation import *\n",
    "\n",
    "start_time = time.time()\n",
    "\n",
    "# Initial conditions \n",
    "const = SimpleNamespace()\n",
    "\n",
    "const.Re = 1e2      # Reynolds number\n",
    "const.dt = 1e-2     # time step\n",
    "const.tf = 4e0      # final time\n",
    "const.nx = 50       # number of x-gridpoints\n",
    "const.ny = 50       # number of y-gridpoints\n",
    "const.nsteps = 10   # step interval for graphic output\n",
    "const.lx = 1        # width of box\n",
    "const.ly = 1        # height of box\n",
    "    \n",
    "const.rho_arrow = 20 # Density of arrows in quiver plot per unit length l\n",
    "\n",
    "## Set other constants (incl. grid) which are determined by initial conditions specified above\n",
    "const = constants(const)\n",
    "\n",
    "# IC's\n",
    "data = SimpleNamespace()\n",
    "data = initialisation(const, data)\n",
    "\n",
    "# BC's\n",
    "## North, East, South, West\n",
    "bc = SimpleNamespace()\n",
    "bc = set_BC(const, bc, 'lid')\n",
    "\n",
    "# Boundary matrices\n",
    "const.Ubc , const.Vbc = set_BM(const, bc) # Maybe change const. to bc.\n",
    "\n",
    "# Operator matrices on P, U, V, Q respectively\n",
    "LP = SimpleNamespace()\n",
    "LP = laplacian(const, LP)\n",
    "LP = cholesky_decomposition(LP)\n",
    "\n",
    "# Simulation\n",
    "simulation_data = simulation(const, bc, LP, data)\n",
    "\n",
    "end_time = time.time()\n",
    "print('Runtime', np.round(end_time - start_time,2), 's')"
   ]
  },
  {
   "cell_type": "markdown",
   "metadata": {},
   "source": [
    "# Preliminary object function"
   ]
  },
  {
   "cell_type": "code",
   "execution_count": null,
   "metadata": {},
   "outputs": [],
   "source": [
    "np.shape(data.V)"
   ]
  },
  {
   "cell_type": "code",
   "execution_count": null,
   "metadata": {},
   "outputs": [],
   "source": [
    "# Circular object\n",
    "scale = 1/5\n",
    "R = const.lx*scale/2\n",
    "cx, cy = const.lx/2, const.ly/2\n",
    "\n",
    "indices_Pgrid = ((const.X_ave-cx)**2 /3 + (const.Y_ave-cy)**2 <= R**2) # devided by three to see clear differences later on # The object is projected on the pressure grid (grid points in middle of cell)\n",
    "indices_grid = ((const.X-cx)**2 + (const.Y-cy)**2 <= R**2)\n"
   ]
  },
  {
   "cell_type": "code",
   "execution_count": null,
   "metadata": {},
   "outputs": [],
   "source": [
    "indices_Ugrid = np.zeros((np.shape(data.U)), dtype=bool)\n",
    "indices_Vgrid = np.zeros((np.shape(data.V)), dtype=bool)\n",
    "\n",
    "# Firstly shape[1] as this is the x-coordinate and shape[0] secondly as this is the y-coordinate\n",
    "# range starts at 1 in order to prevent looking to non-existent elements. (Here it is okay to start from 1 for both x and y as the object is not at the boundary of the domain)\n",
    "for x in range(1, np.shape(indices_Pgrid)[1]):\n",
    "    for y in range(1, np.shape(indices_Pgrid)[0]):\n",
    "        if indices_Pgrid[y,x]:\n",
    "            if indices_Pgrid[y, x-1]:\n",
    "                indices_Ugrid[y, x] = True\n",
    "            if indices_Pgrid[y+1, x]:\n",
    "                indices_Vgrid[y, x] = True # Indices kloppen hier nog niet\n",
    "visualise_matrix(indices_Ugrid, 'Ugrid')\n",
    "visualise_matrix(indices_Vgrid, 'Vgrid')"
   ]
  },
  {
   "cell_type": "code",
   "execution_count": null,
   "metadata": {},
   "outputs": [],
   "source": [
    "# Visual check of object\n",
    "'''\n",
    "indices_Pgrid = indices_Pgrid*1\n",
    "indices_Pgrid[6,8] = 10\n",
    "indices_Pgrid[6,7] = 20\n",
    "\n",
    "indices_Pgrid[10,20] = 10\n",
    "indices_Pgrid[9,20] = 20\n",
    "'''\n",
    "visualise_matrix(indices_Pgrid,'indices_Pgrid')\n",
    "visualise_matrix(indices_grid,'indices_grid')\n",
    "\n",
    "# Visual representation of grid\n",
    "visualise_matrix((const.X_ave-cx)**2 + (const.Y_ave-cy)**2,'Translated Pgrid')\n",
    "visualise_matrix((const.X_ave)**2 + (const.Y_ave)**2,'Original Pgrid')\n",
    "\n",
    "visualise_matrix((const.X-cx)**2 + (const.Y-cy)**2,'Translated grid')\n",
    "visualise_matrix((const.X)**2 + (const.Y)**2,'Original grid')"
   ]
  }
 ],
 "metadata": {
  "kernelspec": {
   "display_name": "Python 3",
   "language": "python",
   "name": "python3"
  },
  "language_info": {
   "codemirror_mode": {
    "name": "ipython",
    "version": 3
   },
   "file_extension": ".py",
   "mimetype": "text/x-python",
   "name": "python",
   "nbconvert_exporter": "python",
   "pygments_lexer": "ipython3",
   "version": "3.6.2"
  }
 },
 "nbformat": 4,
 "nbformat_minor": 2
}
