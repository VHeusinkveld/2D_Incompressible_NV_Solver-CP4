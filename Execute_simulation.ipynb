{
 "cells": [
  {
   "cell_type": "markdown",
   "metadata": {},
   "source": [
    "# Navier-Stokes simulation in 2D\n",
    "Currently only the simulation of a pressure driven lid is possible. This can be extended by adding more possibilities to the function 'set_BC'."
   ]
  },
  {
   "cell_type": "code",
   "execution_count": null,
   "metadata": {},
   "outputs": [],
   "source": [
    "#%matplotlib notebook\n",
    "import numpy as np\n",
    "import scipy as sci\n",
    "\n",
    "from types import SimpleNamespace\n",
    "\n",
    "from functions import *\n",
    "from constants import *\n",
    "from simulation import *\n",
    "\n",
    "# Initial conditions \n",
    "const = SimpleNamespace()\n",
    "\n",
    "const.Re = 1e2      # Reynolds number\n",
    "const.dt = 1e-2     # time step\n",
    "const.tf = 4e0      # final time\n",
    "const.nx = 50       # number of x-gridpoints\n",
    "const.ny = 50       # number of y-gridpoints\n",
    "const.nsteps = 10   # step interval for graphic output\n",
    "const.lx = 1        # width of box\n",
    "const.ly = 1        # height of box\n",
    "    \n",
    "const.rho_arrow = 20 # Density of arrows in quiver plot per unit length l\n",
    "\n",
    "## Set other constants (incl. grid) which are determined by initial conditions specified above\n",
    "const = constants(const)\n",
    "\n",
    "# IC's\n",
    "data = SimpleNamespace()\n",
    "data = initialisation(const, data)\n",
    "\n",
    "# BC's\n",
    "## North, East, South, West\n",
    "bc = SimpleNamespace()\n",
    "bc = set_BC(const, bc, 'lid')\n",
    "\n",
    "# Boundary matrices\n",
    "const.Ubc , const.Vbc = set_BM(const, bc) # Maybe change const. to bc.\n",
    "\n",
    "# Operator matrices on P, U, V, Q respectively\n",
    "LP = SimpleNamespace()\n",
    "LP = laplacian(const, LP)\n",
    "\n",
    "# Simulation\n",
    "simulation_data = simulation(const, bc, LP, data)"
   ]
  },
  {
   "cell_type": "code",
   "execution_count": null,
   "metadata": {},
   "outputs": [],
   "source": []
  }
 ],
 "metadata": {
  "kernelspec": {
   "display_name": "Python 3",
   "language": "python",
   "name": "python3"
  },
  "language_info": {
   "codemirror_mode": {
    "name": "ipython",
    "version": 3
   },
   "file_extension": ".py",
   "mimetype": "text/x-python",
   "name": "python",
   "nbconvert_exporter": "python",
   "pygments_lexer": "ipython3",
   "version": "3.6.2"
  }
 },
 "nbformat": 4,
 "nbformat_minor": 2
}
