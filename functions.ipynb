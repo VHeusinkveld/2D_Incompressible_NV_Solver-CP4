{
 "cells": [
  {
   "cell_type": "markdown",
   "metadata": {},
   "source": [
    "# Grid definition"
   ]
  },
  {
   "cell_type": "markdown",
   "metadata": {},
   "source": [
    "Defines indices for grid elements which are increasing from left to right and going from down to up. (Interpretation depends on were you put origin. No matter were. Definition will hold and indices will always go row by row.)"
   ]
  },
  {
   "cell_type": "code",
   "execution_count": 1,
   "metadata": {},
   "outputs": [],
   "source": [
    "import numpy as np\n",
    "\n",
    "class Grid:\n",
    "    \"\"\"\n",
    "    Class definition of the 2D grid. For now: NOT USED\n",
    "    \"\"\"\n",
    "    \n",
    "    def __init__(self, x, y, h, w):\n",
    "        \n",
    "        self.x = x # x-coordinate in grid\n",
    "        self.y = y # y-coordinate in grid\n",
    "        self.h = h # Height\n",
    "        self.w = w # Width\n",
    "                \n",
    "    def position(self, i):\n",
    "        x = i%self.w\n",
    "        y = np.floor(i/self.w)\n",
    "        return x, y\n",
    "        \n",
    "    def index(self, x, y):\n",
    "        return y*self.w + x"
   ]
  },
  {
   "cell_type": "markdown",
   "metadata": {},
   "source": [
    "# Linear convection\n",
    "in 2D grid of 20x20"
   ]
  },
  {
   "cell_type": "code",
   "execution_count": 2,
   "metadata": {},
   "outputs": [],
   "source": [
    "import numpy as np\n",
    "\n",
    "class Element:\n",
    "    \n",
    "    def __init__(self, i, const):\n",
    "        self.x = int(i % const.w) # x-coordinate in grid\n",
    "        self.y = int(np.floor(i / const.w)) # y-coordinate in grid\n",
    "        \n",
    "        # Initialise the fluid (u = fluid velocity (2D))\n",
    "        if self.x <= 5 or self.y <= 10: # IC\n",
    "            self.u = 2\n",
    "        else:\n",
    "            self.u = 1\n",
    "            \n",
    "        self.u_new = None\n",
    "            \n",
    "        # Apply BC\n",
    "        self.apply_bc(const)\n",
    "        \n",
    "    def boundary_check(self, const):\n",
    "        return self.x == 0 or self.x == const.w-1 or self.y == 0 or self.y == const.h-1 # BC\n",
    "        \n",
    "    def apply_bc(self, const):\n",
    "        if self.boundary_check(self, const):\n",
    "            self.u = 1\n",
    "            \n",
    "    def calculate_u_new(self, const, neighbor_x, neighbor_y):\n",
    "        if self.boundary_check(const):\n",
    "            self.u_new = 1\n",
    "            return\n",
    "        \n",
    "        self.u_new = self.u + const.c * const.dt * (\n",
    "                (self.u - neighbor_x.u) / const.dx +\n",
    "                (self.u - neighbor_y.u) / const.dy )\n",
    "        \n",
    "    def du(self):\n",
    "        return self.u_new - self.u\n",
    "    \n",
    "    def apply_u(self):\n",
    "        self.u = self.u_new\n",
    "        \n",
    "    def inspect(self):\n",
    "        return \"Element <x: {}, y: {}, u: {} -> {}>\".format(self.x, self.y, self.u, self.u_new)\n",
    "        \n",
    "    def print(self):\n",
    "        print(self.inspect())\n",
    "    "
   ]
  },
  {
   "cell_type": "code",
   "execution_count": 5,
   "metadata": {},
   "outputs": [],
   "source": [
    "def initialisation(const):\n",
    "        n = const.h*const.w\n",
    "        data = []\n",
    "        for i in range(n): # Defines grid\n",
    "            data.append(Element(i, const))\n",
    "        return data\n",
    "\n",
    "# Get the element left of a given \"element\", or None if there is none\n",
    "def element_left_of(data, element, const):\n",
    "    if (element.x == 0):\n",
    "        return None\n",
    "    return element_at(data, element.x - 1, element.y, const)\n",
    "\n",
    "# Get the element below a given \"element\", or None if there is none\n",
    "def element_below(data, element, const):\n",
    "    if (element.y == 0):\n",
    "        return None\n",
    "    return element_at(data, element.x, element.y - 1, const)\n",
    "\n",
    "# Get the element at a specific position (x, y)\n",
    "def element_at(data, x, y, const):\n",
    "    return data[index(x, y, const)]\n",
    "\n",
    "# Get the index in \"data\" given an x, y and constants\n",
    "def index(x, y, const):\n",
    "    return int(y * const.w + x)\n",
    "    \n",
    "def time_step(data, const):    \n",
    "    for element in data:\n",
    "        # l = element_left_of(data, element, const)\n",
    "        # b = element_below(data, element, const)\n",
    "        # print(\"time stepping {}\\n\\tleft-of: {}\\n\\tbelow: {}\".format(\n",
    "        #    element.inspect(), \n",
    "        #    l if l is None else l.inspect(), \n",
    "        #    b if b is None else b.inspect()\n",
    "        # ))\n",
    "        element.calculate_u_new(const, element_left_of(data, element, const), element_below(data, element, const))\n",
    "    return data\n",
    "\n",
    "def is_stable(data, const):\n",
    "    equilibrium = all(element.du() < const.epsilon for element in data)\n",
    "    for element in data:\n",
    "        element.apply_u()\n",
    "    return equilibrium\n",
    "\n",
    "def simulation(const):\n",
    "    \n",
    "    data = initialisation(const)\n",
    "    \n",
    "    counter = 0\n",
    "    \n",
    "    while True:\n",
    "        counter += 1\n",
    "        time_step(data, const)\n",
    "        if is_stable(data, const):\n",
    "            print('Equilibrium has been reached after ' + str(counter) + ' steps')\n",
    "            return data\n",
    "        elif counter == const.max_iterations:\n",
    "            print('Maximum # iterations (' + str(counter) + ') has been reached')\n",
    "            return data"
   ]
  },
  {
   "cell_type": "code",
   "execution_count": 4,
   "metadata": {},
   "outputs": [
    {
     "ename": "KeyboardInterrupt",
     "evalue": "",
     "output_type": "error",
     "traceback": [
      "\u001b[0;31m---------------------------------------------------------------------------\u001b[0m",
      "\u001b[0;31mKeyboardInterrupt\u001b[0m                         Traceback (most recent call last)",
      "\u001b[0;32m<ipython-input-4-632509fd03de>\u001b[0m in \u001b[0;36m<module>\u001b[0;34m()\u001b[0m\n\u001b[1;32m      2\u001b[0m \u001b[0mconst\u001b[0m \u001b[0;34m=\u001b[0m \u001b[0mSimpleNamespace\u001b[0m\u001b[0;34m(\u001b[0m\u001b[0mw\u001b[0m \u001b[0;34m=\u001b[0m \u001b[0;36m20\u001b[0m\u001b[0;34m,\u001b[0m \u001b[0mh\u001b[0m \u001b[0;34m=\u001b[0m \u001b[0;36m20\u001b[0m\u001b[0;34m,\u001b[0m \u001b[0mc\u001b[0m \u001b[0;34m=\u001b[0m \u001b[0;36m1\u001b[0m\u001b[0;34m,\u001b[0m \u001b[0mdx\u001b[0m \u001b[0;34m=\u001b[0m \u001b[0;36m1\u001b[0m\u001b[0;34m,\u001b[0m \u001b[0mdy\u001b[0m \u001b[0;34m=\u001b[0m \u001b[0;36m1\u001b[0m\u001b[0;34m,\u001b[0m \u001b[0mdt\u001b[0m \u001b[0;34m=\u001b[0m \u001b[0;36m1\u001b[0m\u001b[0;34m,\u001b[0m \u001b[0mmax_iterations\u001b[0m \u001b[0;34m=\u001b[0m \u001b[0;36m100000\u001b[0m\u001b[0;34m,\u001b[0m \u001b[0mepsilon\u001b[0m \u001b[0;34m=\u001b[0m \u001b[0;36m0.001\u001b[0m\u001b[0;34m)\u001b[0m\u001b[0;34m\u001b[0m\u001b[0m\n\u001b[1;32m      3\u001b[0m \u001b[0;34m\u001b[0m\u001b[0m\n\u001b[0;32m----> 4\u001b[0;31m \u001b[0mdata\u001b[0m \u001b[0;34m=\u001b[0m \u001b[0msimulation\u001b[0m\u001b[0;34m(\u001b[0m\u001b[0mconst\u001b[0m\u001b[0;34m)\u001b[0m\u001b[0;34m\u001b[0m\u001b[0m\n\u001b[0m",
      "\u001b[0;32m<ipython-input-3-5a9bb0cfd7b5>\u001b[0m in \u001b[0;36msimulation\u001b[0;34m(const)\u001b[0m\n\u001b[1;32m     53\u001b[0m         \u001b[0mcounter\u001b[0m \u001b[0;34m+=\u001b[0m \u001b[0;36m1\u001b[0m\u001b[0;34m\u001b[0m\u001b[0m\n\u001b[1;32m     54\u001b[0m         \u001b[0mtime_step\u001b[0m\u001b[0;34m(\u001b[0m\u001b[0mdata\u001b[0m\u001b[0;34m,\u001b[0m \u001b[0mconst\u001b[0m\u001b[0;34m)\u001b[0m\u001b[0;34m\u001b[0m\u001b[0m\n\u001b[0;32m---> 55\u001b[0;31m         \u001b[0;32mif\u001b[0m \u001b[0mis_stable\u001b[0m\u001b[0;34m(\u001b[0m\u001b[0mdata\u001b[0m\u001b[0;34m,\u001b[0m \u001b[0mconst\u001b[0m\u001b[0;34m)\u001b[0m\u001b[0;34m:\u001b[0m\u001b[0;34m\u001b[0m\u001b[0m\n\u001b[0m\u001b[1;32m     56\u001b[0m             \u001b[0mprint\u001b[0m\u001b[0;34m(\u001b[0m\u001b[0;34m'Equilibrium has been reached after '\u001b[0m \u001b[0;34m+\u001b[0m \u001b[0mstr\u001b[0m\u001b[0;34m(\u001b[0m\u001b[0mcounter\u001b[0m\u001b[0;34m)\u001b[0m \u001b[0;34m+\u001b[0m \u001b[0;34m' steps'\u001b[0m\u001b[0;34m)\u001b[0m\u001b[0;34m\u001b[0m\u001b[0m\n\u001b[1;32m     57\u001b[0m             \u001b[0;32mreturn\u001b[0m \u001b[0mdata\u001b[0m\u001b[0;34m\u001b[0m\u001b[0m\n",
      "\u001b[0;32m<ipython-input-3-5a9bb0cfd7b5>\u001b[0m in \u001b[0;36mis_stable\u001b[0;34m(data, const)\u001b[0m\n\u001b[1;32m     41\u001b[0m     \u001b[0mequilibrium\u001b[0m \u001b[0;34m=\u001b[0m \u001b[0mall\u001b[0m\u001b[0;34m(\u001b[0m\u001b[0melement\u001b[0m\u001b[0;34m.\u001b[0m\u001b[0mdu\u001b[0m\u001b[0;34m(\u001b[0m\u001b[0;34m)\u001b[0m \u001b[0;34m<\u001b[0m \u001b[0mconst\u001b[0m\u001b[0;34m.\u001b[0m\u001b[0mepsilon\u001b[0m \u001b[0;32mfor\u001b[0m \u001b[0melement\u001b[0m \u001b[0;32min\u001b[0m \u001b[0mdata\u001b[0m\u001b[0;34m)\u001b[0m\u001b[0;34m\u001b[0m\u001b[0m\n\u001b[1;32m     42\u001b[0m     \u001b[0;32mfor\u001b[0m \u001b[0melement\u001b[0m \u001b[0;32min\u001b[0m \u001b[0mdata\u001b[0m\u001b[0;34m:\u001b[0m\u001b[0;34m\u001b[0m\u001b[0m\n\u001b[0;32m---> 43\u001b[0;31m         \u001b[0melement\u001b[0m\u001b[0;34m.\u001b[0m\u001b[0mapply_u\u001b[0m\u001b[0;34m(\u001b[0m\u001b[0;34m)\u001b[0m\u001b[0;34m\u001b[0m\u001b[0m\n\u001b[0m\u001b[1;32m     44\u001b[0m     \u001b[0;32mreturn\u001b[0m \u001b[0mequilibrium\u001b[0m\u001b[0;34m\u001b[0m\u001b[0m\n\u001b[1;32m     45\u001b[0m \u001b[0;34m\u001b[0m\u001b[0m\n",
      "\u001b[0;31mKeyboardInterrupt\u001b[0m: "
     ]
    }
   ],
   "source": [
    "from types import SimpleNamespace\n",
    "const = SimpleNamespace(w = 20, h = 20, c = 1, dx = 1, dy = 1, dt = 1, max_iterations = 100000, epsilon = 0.001)\n",
    "\n",
    "data = simulation(const)"
   ]
  },
  {
   "cell_type": "code",
   "execution_count": null,
   "metadata": {},
   "outputs": [],
   "source": []
  },
  {
   "cell_type": "code",
   "execution_count": null,
   "metadata": {},
   "outputs": [],
   "source": []
  }
 ],
 "metadata": {
  "kernelspec": {
   "display_name": "Python 3",
   "language": "python",
   "name": "python3"
  },
  "language_info": {
   "codemirror_mode": {
    "name": "ipython",
    "version": 3
   },
   "file_extension": ".py",
   "mimetype": "text/x-python",
   "name": "python",
   "nbconvert_exporter": "python",
   "pygments_lexer": "ipython3",
   "version": "3.6.2"
  }
 },
 "nbformat": 4,
 "nbformat_minor": 2
}
